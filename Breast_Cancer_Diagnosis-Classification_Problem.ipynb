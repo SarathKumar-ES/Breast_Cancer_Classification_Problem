{
 "cells": [
  {
   "cell_type": "code",
   "execution_count": 27,
   "id": "196b0e78-2df8-47b6-a356-b5b330f9443b",
   "metadata": {},
   "outputs": [],
   "source": [
    "# Importing Necessary Libraries\n",
    "\n",
    "import pandas as pd\n",
    "import numpy as np\n",
    "import matplotlib.pyplot as plt\n",
    "import seaborn as sns\n",
    "from sklearn.model_selection import train_test_split\n",
    "from sklearn.preprocessing import StandardScaler\n",
    "from sklearn.metrics import accuracy_score, classification_report, confusion_matrix\n",
    "from sklearn.linear_model import LogisticRegression\n",
    "from sklearn.tree import DecisionTreeClassifier\n",
    "from sklearn.ensemble import RandomForestClassifier\n",
    "from sklearn.svm import SVC\n",
    "from sklearn.neighbors import KNeighborsClassifier"
   ]
  },
  {
   "cell_type": "markdown",
   "id": "cdc0647f-900d-4eef-b318-c2f6997aa45b",
   "metadata": {},
   "source": [
    "# 1. Loading and Preprocessing"
   ]
  },
  {
   "cell_type": "code",
   "execution_count": 5,
   "id": "d1b3a725-d5e1-41a0-ba77-4f127a115f09",
   "metadata": {},
   "outputs": [
    {
     "name": "stdout",
     "output_type": "stream",
     "text": [
      "   mean radius  mean texture  mean perimeter  mean area  mean smoothness  \\\n",
      "0        17.99         10.38          122.80     1001.0          0.11840   \n",
      "1        20.57         17.77          132.90     1326.0          0.08474   \n",
      "2        19.69         21.25          130.00     1203.0          0.10960   \n",
      "3        11.42         20.38           77.58      386.1          0.14250   \n",
      "4        20.29         14.34          135.10     1297.0          0.10030   \n",
      "\n",
      "   mean compactness  mean concavity  mean concave points  mean symmetry  \\\n",
      "0           0.27760          0.3001              0.14710         0.2419   \n",
      "1           0.07864          0.0869              0.07017         0.1812   \n",
      "2           0.15990          0.1974              0.12790         0.2069   \n",
      "3           0.28390          0.2414              0.10520         0.2597   \n",
      "4           0.13280          0.1980              0.10430         0.1809   \n",
      "\n",
      "   mean fractal dimension  ...  worst texture  worst perimeter  worst area  \\\n",
      "0                 0.07871  ...          17.33           184.60      2019.0   \n",
      "1                 0.05667  ...          23.41           158.80      1956.0   \n",
      "2                 0.05999  ...          25.53           152.50      1709.0   \n",
      "3                 0.09744  ...          26.50            98.87       567.7   \n",
      "4                 0.05883  ...          16.67           152.20      1575.0   \n",
      "\n",
      "   worst smoothness  worst compactness  worst concavity  worst concave points  \\\n",
      "0            0.1622             0.6656           0.7119                0.2654   \n",
      "1            0.1238             0.1866           0.2416                0.1860   \n",
      "2            0.1444             0.4245           0.4504                0.2430   \n",
      "3            0.2098             0.8663           0.6869                0.2575   \n",
      "4            0.1374             0.2050           0.4000                0.1625   \n",
      "\n",
      "   worst symmetry  worst fractal dimension  target  \n",
      "0          0.4601                  0.11890       0  \n",
      "1          0.2750                  0.08902       0  \n",
      "2          0.3613                  0.08758       0  \n",
      "3          0.6638                  0.17300       0  \n",
      "4          0.2364                  0.07678       0  \n",
      "\n",
      "[5 rows x 31 columns]\n"
     ]
    }
   ],
   "source": [
    "# Loading data\n",
    "# Preprocess the data to handle any missing values and perform necessary feature scaling\n",
    "\n",
    "from sklearn.datasets import load_breast_cancer\n",
    "data = load_breast_cancer()\n",
    "df = pd.DataFrame(data.data, columns=data.feature_names)\n",
    "df['target'] = data.target\n",
    "print(df.head())"
   ]
  },
  {
   "cell_type": "code",
   "execution_count": 7,
   "id": "c5996065-483b-40a7-916d-f75288dec76e",
   "metadata": {},
   "outputs": [
    {
     "name": "stdout",
     "output_type": "stream",
     "text": [
      "\n",
      "Missing values:\n",
      " mean radius                0\n",
      "mean texture               0\n",
      "mean perimeter             0\n",
      "mean area                  0\n",
      "mean smoothness            0\n",
      "mean compactness           0\n",
      "mean concavity             0\n",
      "mean concave points        0\n",
      "mean symmetry              0\n",
      "mean fractal dimension     0\n",
      "radius error               0\n",
      "texture error              0\n",
      "perimeter error            0\n",
      "area error                 0\n",
      "smoothness error           0\n",
      "compactness error          0\n",
      "concavity error            0\n",
      "concave points error       0\n",
      "symmetry error             0\n",
      "fractal dimension error    0\n",
      "worst radius               0\n",
      "worst texture              0\n",
      "worst perimeter            0\n",
      "worst area                 0\n",
      "worst smoothness           0\n",
      "worst compactness          0\n",
      "worst concavity            0\n",
      "worst concave points       0\n",
      "worst symmetry             0\n",
      "worst fractal dimension    0\n",
      "target                     0\n",
      "dtype: int64\n"
     ]
    }
   ],
   "source": [
    "# Finding missing values\n",
    "print(\"\\nMissing values:\\n\", df.isnull().sum())"
   ]
  },
  {
   "cell_type": "markdown",
   "id": "db493d9e-3808-4ed6-b375-a3ebad3dc059",
   "metadata": {},
   "source": [
    "# No missing values in the dataset, so we skip imputation."
   ]
  },
  {
   "cell_type": "code",
   "execution_count": 9,
   "id": "4688c6fb-96e9-419b-9728-f3bc615ffa93",
   "metadata": {},
   "outputs": [],
   "source": [
    "# Performing necessary feature scaling\n",
    "# Split into features and target\n",
    "X = df.drop('target', axis=1)\n",
    "y = df['target']\n",
    "\n",
    "# Feature Scaling\n",
    "scaler = StandardScaler()\n",
    "X_scaled = scaler.fit_transform(X)\n",
    "\n",
    "# Split into train/test\n",
    "X_train, X_test, y_train, y_test = train_test_split(X_scaled, y, test_size=0.2, random_state=42)"
   ]
  },
  {
   "cell_type": "markdown",
   "id": "5ec2a89e-b142-4a36-a085-f9f9dcc821a9",
   "metadata": {},
   "source": [
    "# StandardScaler is used because features are on different scales."
   ]
  },
  {
   "cell_type": "markdown",
   "id": "05e6a0cc-0d61-4734-acc2-00676d0d8043",
   "metadata": {},
   "source": [
    "# 2. Classification Algorithm Implementation"
   ]
  },
  {
   "cell_type": "markdown",
   "id": "1273a28e-bb84-4811-aca4-8df284a09da5",
   "metadata": {},
   "source": [
    "# A. Logistic Regression \n",
    "Logistic Regression is used for binary classification problems. It models the probability that a given input belongs to a particular class using the logistic(sigmoid) function.\n",
    "\n",
    "It's suitable for this dataset because:\n",
    "The target is binary (malignant =0, benign =1).\n",
    "It performs well when there is a clear separation between classes."
   ]
  },
  {
   "cell_type": "code",
   "execution_count": 11,
   "id": "35369b74-80a7-4fac-8266-92d7fadda98a",
   "metadata": {},
   "outputs": [
    {
     "name": "stdout",
     "output_type": "stream",
     "text": [
      "Logistic Regression Results:\n",
      "Accuracy: 0.9737\n",
      "Classification Report:\n",
      "               precision    recall  f1-score   support\n",
      "\n",
      "           0       0.98      0.95      0.96        43\n",
      "           1       0.97      0.99      0.98        71\n",
      "\n",
      "    accuracy                           0.97       114\n",
      "   macro avg       0.97      0.97      0.97       114\n",
      "weighted avg       0.97      0.97      0.97       114\n",
      "\n",
      "Confusion Matrix:\n",
      " [[41  2]\n",
      " [ 1 70]]\n"
     ]
    }
   ],
   "source": [
    "# Using Logistic Regression\n",
    "\n",
    "log_reg = LogisticRegression(max_iter=10000)\n",
    "log_reg.fit(X_train, y_train)\n",
    "y_pred_log = log_reg.predict(X_test)\n",
    "\n",
    "# Printing results\n",
    "print(\"Logistic Regression Results:\")\n",
    "print(f\"Accuracy: {accuracy_score(y_test, y_pred_log):.4f}\")\n",
    "print(\"Classification Report:\\n\", classification_report(y_test, y_pred_log))\n",
    "print(\"Confusion Matrix:\\n\", confusion_matrix(y_test, y_pred_log))"
   ]
  },
  {
   "cell_type": "markdown",
   "id": "8c892837-9d95-4eb8-957e-092296b88f4c",
   "metadata": {},
   "source": [
    "# B. Decision Tree Classifier\n",
    "A Decision Tree splits the dataset into smaller subsets based on feature values using if-else conditions. It builds a tree-like structure\n",
    "Why it's suitable:\n",
    "It can handle both numerical and categorical data.\n",
    "Easy to interpret.\n",
    "Doesn’t require feature scaling (but it’s okay to scale beforehand too"
   ]
  },
  {
   "cell_type": "code",
   "execution_count": 13,
   "id": "23cea383-c8d9-4c86-9cda-2fc8c245c2f5",
   "metadata": {},
   "outputs": [
    {
     "name": "stdout",
     "output_type": "stream",
     "text": [
      "Decision Tree Classifier Results:\n",
      "Accuracy: 0.9474\n",
      "Classification Report:\n",
      "               precision    recall  f1-score   support\n",
      "\n",
      "           0       0.93      0.93      0.93        43\n",
      "           1       0.96      0.96      0.96        71\n",
      "\n",
      "    accuracy                           0.95       114\n",
      "   macro avg       0.94      0.94      0.94       114\n",
      "weighted avg       0.95      0.95      0.95       114\n",
      "\n",
      "Confusion Matrix:\n",
      " [[40  3]\n",
      " [ 3 68]]\n"
     ]
    }
   ],
   "source": [
    "# Using Decision tree Classifier\n",
    "\n",
    "dt_model = DecisionTreeClassifier(random_state=42)\n",
    "dt_model.fit(X_train, y_train)\n",
    "y_pred_dt = dt_model.predict(X_test)\n",
    "\n",
    "# Printing results\n",
    "print(\"Decision Tree Classifier Results:\")\n",
    "print(f\"Accuracy: {accuracy_score(y_test, y_pred_dt):.4f}\")\n",
    "print(\"Classification Report:\\n\", classification_report(y_test, y_pred_dt))\n",
    "print(\"Confusion Matrix:\\n\", confusion_matrix(y_test, y_pred_dt))"
   ]
  },
  {
   "cell_type": "markdown",
   "id": "937972d2-452f-4b7f-82f6-f0f13f49f80a",
   "metadata": {},
   "source": [
    "# C. Random Forest Classifier\n",
    "Random Forest is an ensemble learning method that builds multiple decision trees and combines their results (usually using majority voting for classification). \n",
    "\n",
    "Why it's suitable:\n",
    "Handles high-dimensional datasets like this one well.\n",
    "Reduces overfitting that single decision trees might suffer from.\n",
    "Provides better generalization performance."
   ]
  },
  {
   "cell_type": "code",
   "execution_count": 15,
   "id": "9c0cedcd-cfc6-449e-a018-253ce06badae",
   "metadata": {},
   "outputs": [
    {
     "name": "stdout",
     "output_type": "stream",
     "text": [
      "Random Forest Classifier Results:\n",
      "Accuracy: 0.9649\n",
      "Classification Report:\n",
      "               precision    recall  f1-score   support\n",
      "\n",
      "           0       0.98      0.93      0.95        43\n",
      "           1       0.96      0.99      0.97        71\n",
      "\n",
      "    accuracy                           0.96       114\n",
      "   macro avg       0.97      0.96      0.96       114\n",
      "weighted avg       0.97      0.96      0.96       114\n",
      "\n",
      "Confusion Matrix:\n",
      " [[40  3]\n",
      " [ 1 70]]\n"
     ]
    }
   ],
   "source": [
    "# Random Forest Classifier\n",
    "rf_model = RandomForestClassifier(random_state=42)\n",
    "rf_model.fit(X_train, y_train)\n",
    "y_pred_rf = rf_model.predict(X_test)\n",
    "\n",
    "# Printing results\n",
    "print(\"Random Forest Classifier Results:\")\n",
    "print(f\"Accuracy: {accuracy_score(y_test, y_pred_rf):.4f}\")\n",
    "print(\"Classification Report:\\n\", classification_report(y_test, y_pred_rf))\n",
    "print(\"Confusion Matrix:\\n\", confusion_matrix(y_test, y_pred_rf))"
   ]
  },
  {
   "cell_type": "markdown",
   "id": "0676399e-22ad-48b8-80f5-92184823299f",
   "metadata": {},
   "source": [
    "# D. Support Vector Machine (SVM)\n",
    "\n",
    "SVM aims to find the best hyperplane that separates data points of different classes with the maximum margin. It’s particularly powerful in high-dimensional spaces and effective when classes are well-separated. There are two main types:\n",
    "\n",
    "1. Linear SVM – best for linearly separable data.\n",
    "2. Kernel SVM (e.g., RBF kernel) – handles non-linear boundaries.\n",
    "   Why it's suitable:\n",
    "-Great for binary classification (this dataset has 2 target classes: malignant & benign).\n",
    "-Works well even when feature dimensions are high compared to samples."
   ]
  },
  {
   "cell_type": "code",
   "execution_count": 17,
   "id": "a772f029-4087-47ff-81b2-fb46172d9bf5",
   "metadata": {},
   "outputs": [
    {
     "name": "stdout",
     "output_type": "stream",
     "text": [
      "Support Vector Machine Results:\n",
      "Accuracy: 0.9737\n",
      "Classification Report:\n",
      "               precision    recall  f1-score   support\n",
      "\n",
      "           0       0.98      0.95      0.96        43\n",
      "           1       0.97      0.99      0.98        71\n",
      "\n",
      "    accuracy                           0.97       114\n",
      "   macro avg       0.97      0.97      0.97       114\n",
      "weighted avg       0.97      0.97      0.97       114\n",
      "\n",
      "Confusion Matrix:\n",
      " [[41  2]\n",
      " [ 1 70]]\n"
     ]
    }
   ],
   "source": [
    "# Using Support Vector Machine\n",
    "svm_model = SVC()\n",
    "svm_model.fit(X_train, y_train)\n",
    "y_pred_svm = svm_model.predict(X_test)\n",
    "\n",
    "# Printing results\n",
    "print(\"Support Vector Machine Results:\")\n",
    "print(f\"Accuracy: {accuracy_score(y_test, y_pred_svm):.4f}\")\n",
    "print(\"Classification Report:\\n\", classification_report(y_test, y_pred_svm))\n",
    "print(\"Confusion Matrix:\\n\", confusion_matrix(y_test, y_pred_svm))"
   ]
  },
  {
   "cell_type": "markdown",
   "id": "0336e242-d63d-4f99-89fc-359b8e0e2e6e",
   "metadata": {},
   "source": [
    "# E. k-Nearest Neighbors (k-NN)\n",
    "\n",
    "k-NN is a lazy learning algorithm. It doesn’t build a model during training. Instead, when predicting a new data point, it looks at the ‘k’ closest training examples (neighbors) and assigns the class based on majority vote.\n",
    "Why it’s suitable:\n",
    "-Easy to implement and understand.\n",
    "-Works well for small to medium datasets.\n",
    "-Effective when similar data points have the same class.\n",
    "\n",
    "But:\n",
    "-Performance drops with high-dimensional data (due to the curse of dimensionality).\n",
    "-Slower predictions on large datasets (since it compares with all training samples).\n"
   ]
  },
  {
   "cell_type": "code",
   "execution_count": 19,
   "id": "a13eb180-8d6c-4d93-a326-89ecad5bf648",
   "metadata": {},
   "outputs": [
    {
     "name": "stdout",
     "output_type": "stream",
     "text": [
      "k-Nearest Neighbors Results:\n",
      "Accuracy: 0.9474\n",
      "Classification Report:\n",
      "               precision    recall  f1-score   support\n",
      "\n",
      "           0       0.93      0.93      0.93        43\n",
      "           1       0.96      0.96      0.96        71\n",
      "\n",
      "    accuracy                           0.95       114\n",
      "   macro avg       0.94      0.94      0.94       114\n",
      "weighted avg       0.95      0.95      0.95       114\n",
      "\n",
      "Confusion Matrix:\n",
      " [[40  3]\n",
      " [ 3 68]]\n"
     ]
    }
   ],
   "source": [
    "# Using k-NN\n",
    "\n",
    "knn_model = KNeighborsClassifier(n_neighbors=5)\n",
    "knn_model.fit(X_train, y_train)\n",
    "y_pred_knn = knn_model.predict(X_test)\n",
    "\n",
    "# Evaluation\n",
    "print(\"k-Nearest Neighbors Results:\")\n",
    "print(f\"Accuracy: {accuracy_score(y_test, y_pred_knn):.4f}\")\n",
    "print(\"Classification Report:\\n\", classification_report(y_test, y_pred_knn))\n",
    "print(\"Confusion Matrix:\\n\", confusion_matrix(y_test, y_pred_knn))"
   ]
  },
  {
   "cell_type": "markdown",
   "id": "ec95cb32-917d-423e-a64b-493539ac4818",
   "metadata": {},
   "source": [
    "# 3. Model Comparison"
   ]
  },
  {
   "cell_type": "code",
   "execution_count": 23,
   "id": "9d487311-804b-4d6a-ad0d-d1d9524371d0",
   "metadata": {},
   "outputs": [
    {
     "name": "stdout",
     "output_type": "stream",
     "text": [
      "                    Model  Accuracy\n",
      "0     Logistic Regression    0.9737\n",
      "1  Support Vector Machine    0.9737\n",
      "2           Random Forest    0.9649\n",
      "3           Decision Tree    0.9474\n",
      "4    k- Nearest Neighbors    0.9474\n"
     ]
    }
   ],
   "source": [
    "# To Compare the performasnce of five models we can create a table\n",
    "# to call Model names and its Accuracy scores\n",
    "model_names = [\n",
    "    \"Logistic Regression\",\n",
    "    \"Decision Tree\",\n",
    "    \"Random Forest\",\n",
    "    \"Support Vector Machine\",\n",
    "    \"k- Nearest Neighbors\"\n",
    "]\n",
    "accuracies = [0.9737, 0.9474, 0.9649, 0.9737, 0.9474]\n",
    "\n",
    "# To cratte Dataframe\n",
    "comparison_df = pd.DataFrame({\n",
    "    \"Model\": model_names,\n",
    "    \"Accuracy\": accuracies\n",
    "})\n",
    "comparison_df.sort_values(by=\"Accuracy\", ascending=False, inplace=True) # for sorting accuracy\n",
    "print(comparison_df.reset_index(drop=True))"
   ]
  },
  {
   "cell_type": "code",
   "execution_count": 29,
   "id": "778a2bbc-1864-404f-a158-7bbeb11b4de9",
   "metadata": {},
   "outputs": [
    {
     "name": "stderr",
     "output_type": "stream",
     "text": [
      "C:\\Users\\user\\AppData\\Local\\Temp\\ipykernel_1192\\1424824992.py:4: FutureWarning: \n",
      "\n",
      "Passing `palette` without assigning `hue` is deprecated and will be removed in v0.14.0. Assign the `y` variable to `hue` and set `legend=False` for the same effect.\n",
      "\n",
      "  sns.barplot(x=\"Accuracy\", y=\"Model\", data=comparison_df, palette=\"viridis\")\n"
     ]
    },
    {
     "data": {
      "text/plain": [
       "<function matplotlib.pyplot.show(close=None, block=None)>"
      ]
     },
     "execution_count": 29,
     "metadata": {},
     "output_type": "execute_result"
    },
    {
     "data": {
      "image/png": "[encoded data removed]",
      "text/plain": [
       "<Figure size 1000x600 with 1 Axes>"
      ]
     },
     "metadata": {},
     "output_type": "display_data"
    }
   ],
   "source": [
    "# Creating a Bar plot\n",
    "\n",
    "plt.figure(figsize=(10, 6))\n",
    "sns.barplot(x=\"Accuracy\", y=\"Model\", data=comparison_df, palette=\"viridis\")\n",
    "plt.title(\"Model Comparison\")\n",
    "plt.xlabel(\"Accuracy\")\n",
    "plt.ylabel(\"Model\")\n",
    "plt.grid(axis='x', linestyle='--', alpha=0.7)\n",
    "plt.tight_layout()\n",
    "plt.show\n"
   ]
  },
  {
   "cell_type": "code",
   "execution_count": null,
   "id": "93c43cdf-d9fa-4bdd-88d7-c985a28c267d",
   "metadata": {},
   "outputs": [],
   "source": []
  },
  {
   "cell_type": "raw",
   "id": "44b611f9-5f93-432b-9e60-2a6398b0c180",
   "metadata": {},
   "source": [
    "We have implemented five classification algorithms and evaluated them using the Breast Cancer dataset from sklearn. Based on model accuracy:\n",
    "\n",
    "# Logistic Regression and Support Vector Machine (SVM) emerged as the best-performing models, both achieving an impressive accuracy of 97.37%.\n",
    "\n",
    "# Random Forest followed closely with 96.49% accuracy, showing strong performance as an ensemble method.\n",
    "\n",
    "# Decision Tree and k-Nearest Neighbors (k-NN) achieved slightly lower accuracy (94.74%), potentially due to sensitivity to overfitting and data scaling, respectively.\n",
    "\n",
    "Overall, Logistic Regression and SVM proved to be highly effective and reliable for this dataset."
   ]
  }
 ],
 "metadata": {
  "kernelspec": {
   "display_name": "Python [conda env:base] *",
   "language": "python",
   "name": "conda-base-py"
  },
  "language_info": {
   "codemirror_mode": {
    "name": "ipython",
    "version": 3
   },
   "file_extension": ".py",
   "mimetype": "text/x-python",
   "name": "python",
   "nbconvert_exporter": "python",
   "pygments_lexer": "ipython3",
   "version": "3.12.7"
  }
 },
 "nbformat": 4,
 "nbformat_minor": 5
}
